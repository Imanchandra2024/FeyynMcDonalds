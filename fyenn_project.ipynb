{
  "nbformat": 4,
  "nbformat_minor": 0,
  "metadata": {
    "colab": {
      "provenance": [],
      "authorship_tag": "ABX9TyOUKeK8MO41ERY3/Dk2rxWf",
      "include_colab_link": true
    },
    "kernelspec": {
      "name": "python3",
      "display_name": "Python 3"
    },
    "language_info": {
      "name": "python"
    }
  },
  "cells": [
    {
      "cell_type": "markdown",
      "metadata": {
        "id": "view-in-github",
        "colab_type": "text"
      },
      "source": [
        "<a href=\"https://colab.research.google.com/github/Imanchandra2024/FeyynMcDonalds/blob/main/fyenn_project.ipynb\" target=\"_parent\"><img src=\"https://colab.research.google.com/assets/colab-badge.svg\" alt=\"Open In Colab\"/></a>"
      ]
    },
    {
      "cell_type": "code",
      "execution_count": 4,
      "metadata": {
        "colab": {
          "base_uri": "https://localhost:8080/"
        },
        "id": "5lFiDkk2PTUc",
        "outputId": "85ecd97b-e871-426b-e843-bc7e39cef598"
      },
      "outputs": [
        {
          "output_type": "stream",
          "name": "stdout",
          "text": [
            "           Anna    Bill  Frank  Julia   Maria  Michael    Tom\n",
            "Anna       0.00    0.00  56.57  42.43   28.28   134.35  61.72\n",
            "Bill       0.00    0.00  56.57  42.43   28.28   134.35  61.72\n",
            "Frank     56.57   56.57   0.00  14.14   28.28    77.78   5.15\n",
            "Julia     42.43   42.43  14.14   0.00   14.14    91.92  19.29\n",
            "Maria     28.28   28.28  28.28  14.14    0.00   106.07  33.43\n",
            "Michael  134.35  134.35  77.78  91.92  106.07     0.00  72.63\n",
            "Tom       61.72   61.72   5.15  19.29   33.43    72.63   0.00\n"
          ]
        }
      ],
      "source": [
        "import pandas as pd\n",
        "from scipy.spatial.distance import pdist, squareform\n",
        "import numpy as np\n",
        "\n",
        "\n",
        "data = {\n",
        "    'Anna': [0, 0],\n",
        "    'Bill': [0, 0],\n",
        "    'Frank': [40, 40],\n",
        "    'Julia': [30, 30],\n",
        "    'Maria': [20, 20],\n",
        "    'Michael': [95, 95],\n",
        "    'Tom': [43.64, 43.64]\n",
        "}\n",
        "df = pd.DataFrame(data).T\n",
        "df.columns = ['X', 'Y']\n",
        "\n",
        "\n",
        "dist_matrix = pdist(df.values, metric='euclidean')\n",
        "square_dist = squareform(dist_matrix)\n",
        "\n",
        "# Round and convert to DataFrame for pretty output\n",
        "names = df.index.tolist()\n",
        "rounded_df = pd.DataFrame(np.round(square_dist, 2), index=names, columns=names)\n",
        "\n",
        "print(rounded_df)\n",
        "\n"
      ]
    },
    {
      "cell_type": "code",
      "source": [
        "import pandas as pd\n",
        "from sklearn.metrics import pairwise_distances\n",
        "import numpy as np\n",
        "\n",
        "# Simulated numeric version of 'annabill' data\n",
        "data = {\n",
        "    'Anna': [0, 0],\n",
        "    'Bill': [0, 0],\n",
        "    'Frank': [40, 40],\n",
        "    'Julia': [30, 30],\n",
        "    'Maria': [20, 20],\n",
        "    'Michael': [95, 95],\n",
        "    'Tom': [43.64, 43.64]\n",
        "}\n",
        "df = pd.DataFrame(data).T\n",
        "df.columns = ['X', 'Y']  # Give coordinate column names\n",
        "\n",
        "# Compute Euclidean distances using scikit-learn (same as daisy with metric='euclidean')\n",
        "dissimilarities = pairwise_distances(df, metric='euclidean')\n",
        "dissim_df = pd.DataFrame(np.round(dissimilarities, 2), index=df.index, columns=df.index)\n",
        "\n",
        "print(\"Dissimilarities (Euclidean):\")\n",
        "print(dissim_df)\n"
      ],
      "metadata": {
        "colab": {
          "base_uri": "https://localhost:8080/"
        },
        "id": "PO32mtsKWumu",
        "outputId": "6df04b28-6412-4981-9d94-fb6504aa583a"
      },
      "execution_count": 6,
      "outputs": [
        {
          "output_type": "stream",
          "name": "stdout",
          "text": [
            "Dissimilarities (Euclidean):\n",
            "           Anna    Bill  Frank  Julia   Maria  Michael    Tom\n",
            "Anna       0.00    0.00  56.57  42.43   28.28   134.35  61.72\n",
            "Bill       0.00    0.00  56.57  42.43   28.28   134.35  61.72\n",
            "Frank     56.57   56.57   0.00  14.14   28.28    77.78   5.15\n",
            "Julia     42.43   42.43  14.14   0.00   14.14    91.92  19.29\n",
            "Maria     28.28   28.28  28.28  14.14    0.00   106.07  33.43\n",
            "Michael  134.35  134.35  77.78  91.92  106.07     0.00  72.63\n",
            "Tom       61.72   61.72   5.15  19.29   33.43    72.63   0.00\n"
          ]
        }
      ]
    },
    {
      "cell_type": "code",
      "source": [],
      "metadata": {
        "id": "zFKqwd0df1a4"
      },
      "execution_count": null,
      "outputs": []
    }
  ]
}